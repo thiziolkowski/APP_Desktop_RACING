{
  "nbformat": 4,
  "nbformat_minor": 0,
  "metadata": {
    "colab": {
      "provenance": [],
      "authorship_tag": "ABX9TyP6kPXNTEG1WRvGKQ7dfyuk",
      "include_colab_link": true
    },
    "kernelspec": {
      "name": "python3",
      "display_name": "Python 3"
    },
    "language_info": {
      "name": "python"
    }
  },
  "cells": [
    {
      "cell_type": "markdown",
      "metadata": {
        "id": "view-in-github",
        "colab_type": "text"
      },
      "source": [
        "<a href=\"https://colab.research.google.com/github/thiziolkowski/APP_Desktop_RACING/blob/main/GerarQrCodeDinamico.ipynb\" target=\"_parent\"><img src=\"https://colab.research.google.com/assets/colab-badge.svg\" alt=\"Open In Colab\"/></a>"
      ]
    },
    {
      "cell_type": "code",
      "execution_count": null,
      "metadata": {
        "id": "ku9feZmWJvN0"
      },
      "outputs": [],
      "source": []
    },
    {
      "cell_type": "code",
      "source": [
        "!pip install qrcode\n",
        "import qrcode"
      ],
      "metadata": {
        "colab": {
          "base_uri": "https://localhost:8080/"
        },
        "id": "q7mnMxRBJzX1",
        "outputId": "aac8f993-eb92-4142-f704-fdbefbad473f"
      },
      "execution_count": 13,
      "outputs": [
        {
          "output_type": "stream",
          "name": "stdout",
          "text": [
            "Requirement already satisfied: qrcode in /usr/local/lib/python3.10/dist-packages (7.4.2)\n",
            "Requirement already satisfied: typing-extensions in /usr/local/lib/python3.10/dist-packages (from qrcode) (4.12.2)\n",
            "Requirement already satisfied: pypng in /usr/local/lib/python3.10/dist-packages (from qrcode) (0.20220715.0)\n"
          ]
        }
      ]
    },
    {
      "cell_type": "markdown",
      "source": [
        "Criando variáveis para Sala, Bloco, nº Máquina"
      ],
      "metadata": {
        "id": "OBUMl9sQMjIl"
      }
    },
    {
      "cell_type": "code",
      "source": [
        "sl = input(\"Sala:\")\n",
        "bl = input(\"Bloco:\")\n",
        "nm = input(\"Nº máquina: \")"
      ],
      "metadata": {
        "colab": {
          "base_uri": "https://localhost:8080/"
        },
        "id": "99V6NMZ8Mh1H",
        "outputId": "2f20b528-3218-471f-ae65-1c54f72cda1b"
      },
      "execution_count": 14,
      "outputs": [
        {
          "name": "stdout",
          "output_type": "stream",
          "text": [
            "Sala:300\n",
            "Bloco:A\n",
            "Nº máquina: C11\n"
          ]
        }
      ]
    },
    {
      "cell_type": "code",
      "source": [
        "from typing import Concatenate\n",
        "# Dados a serem codificados no QR Code\n",
        "data = f\"https://www.google.com/&sala={sl}&bloco={bl}&maquina={nm}\"\n",
        "\n",
        "# Criando o objeto QR Code\n",
        "qr = qrcode.QRCode(\n",
        "    version=1,\n",
        "    error_correction=qrcode.constants.ERROR_CORRECT_L,\n",
        "    box_size=10,\n",
        "    border=4,\n",
        ")\n",
        "\n",
        "qr.add_data(data)\n",
        "qr.make(fit=True)\n",
        "\n",
        "# Criando a imagem do QR Code\n",
        "img = qr.make_image(fill_color=\"black\", back_color=\"white\")\n",
        "\n",
        "# Salvando a imagem\n",
        "img.save(\"myqrcode3.png\")"
      ],
      "metadata": {
        "id": "TdbU1ldPK0uO"
      },
      "execution_count": 15,
      "outputs": []
    }
  ]
}